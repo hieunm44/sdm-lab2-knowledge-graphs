{
 "cells": [
  {
   "cell_type": "code",
   "execution_count": 1,
   "id": "a99e3642",
   "metadata": {},
   "outputs": [],
   "source": [
    "import pandas as pd\n",
    "import random\n",
    "from rdflib.namespace import RDF, RDFS, FOAF, XSD, URIRef\n",
    "from rdflib import Graph\n",
    "import pandas as pd\n",
    "from rdflib import Namespace\n",
    "from rdflib import Literal"
   ]
  },
  {
   "cell_type": "code",
   "execution_count": 2,
   "id": "0267b838",
   "metadata": {},
   "outputs": [],
   "source": [
    "authorsDF = pd.read_csv('data/authors.csv')\n",
    "authorsPapersDF = pd.read_csv('data/authorsPapers.csv')\n",
    "chairsDF = pd.read_csv('data/chairs.csv')\n",
    "conferencesDF = pd.read_csv('data/conferences.csv')\n",
    "conferenceProceedingsDF = pd.read_csv('data/conferenceProceedings.csv')\n",
    "domainDF = pd.read_csv('data/domain.csv')\n",
    "editorsDF = pd.read_csv('data/editors.csv')\n",
    "journalsDF = pd.read_csv('data/journals.csv')\n",
    "journalVolumesDF = pd.read_csv('data/journalVolumes.csv')\n",
    "papersDF = pd.read_csv('data/papers.csv')\n",
    "proceedingsDF = pd.read_csv('data/proceedings.csv')\n",
    "reviewersDF = pd.read_csv('data/reviewers.csv')\n",
    "reviewsDF = pd.read_csv('data/reviews.csv')\n",
    "subjectsProceedingsVolumesDF = pd.read_csv('data/subjectsProceedingsVolumes.csv')\n",
    "subjectsPapersDF = pd.read_csv('data/subjectsPapers.csv')\n",
    "volumesDF = pd.read_csv('data/volumes.csv')"
   ]
  },
  {
   "cell_type": "code",
   "execution_count": 3,
   "id": "2c4f2697",
   "metadata": {},
   "outputs": [],
   "source": [
    "graph = Graph()\n",
    "lab = Namespace(\"http://sdmlab.org/\")"
   ]
  },
  {
   "cell_type": "code",
   "execution_count": 4,
   "id": "83ae377c",
   "metadata": {},
   "outputs": [],
   "source": [
    "graph.bind('lab',lab)"
   ]
  },
  {
   "cell_type": "markdown",
   "id": "37b86ca6",
   "metadata": {},
   "source": [
    "### Paper -- [paperTitle] --> String "
   ]
  },
  {
   "cell_type": "code",
   "execution_count": 5,
   "id": "6d8305d8",
   "metadata": {},
   "outputs": [
    {
     "data": {
      "text/html": [
       "<div>\n",
       "<style scoped>\n",
       "    .dataframe tbody tr th:only-of-type {\n",
       "        vertical-align: middle;\n",
       "    }\n",
       "\n",
       "    .dataframe tbody tr th {\n",
       "        vertical-align: top;\n",
       "    }\n",
       "\n",
       "    .dataframe thead th {\n",
       "        text-align: right;\n",
       "    }\n",
       "</style>\n",
       "<table border=\"1\" class=\"dataframe\">\n",
       "  <thead>\n",
       "    <tr style=\"text-align: right;\">\n",
       "      <th></th>\n",
       "      <th>paperId</th>\n",
       "      <th>paperUrl</th>\n",
       "      <th>conferenceJournalId</th>\n",
       "      <th>conferenceJournalTitle</th>\n",
       "      <th>paperTitle</th>\n",
       "      <th>paperAbstract</th>\n",
       "      <th>paperType</th>\n",
       "      <th>proceedingsVolumeIds</th>\n",
       "    </tr>\n",
       "  </thead>\n",
       "  <tbody>\n",
       "    <tr>\n",
       "      <th>0</th>\n",
       "      <td>p0</td>\n",
       "      <td>133bcd7488a3c07cb0f493a87564c30e5433768c</td>\n",
       "      <td>j0</td>\n",
       "      <td>Nature Biotechnology</td>\n",
       "      <td>Reproducible, interactive, scalable and extens...</td>\n",
       "      <td>Abstract</td>\n",
       "      <td>fullPaper</td>\n",
       "      <td>jv0</td>\n",
       "    </tr>\n",
       "  </tbody>\n",
       "</table>\n",
       "</div>"
      ],
      "text/plain": [
       "  paperId                                  paperUrl conferenceJournalId  \\\n",
       "0      p0  133bcd7488a3c07cb0f493a87564c30e5433768c                  j0   \n",
       "\n",
       "  conferenceJournalTitle                                         paperTitle  \\\n",
       "0   Nature Biotechnology  Reproducible, interactive, scalable and extens...   \n",
       "\n",
       "  paperAbstract  paperType proceedingsVolumeIds  \n",
       "0      Abstract  fullPaper                  jv0  "
      ]
     },
     "execution_count": 5,
     "metadata": {},
     "output_type": "execute_result"
    }
   ],
   "source": [
    "papersDF.head(1)"
   ]
  },
  {
   "cell_type": "code",
   "execution_count": 6,
   "id": "51d69b0f",
   "metadata": {},
   "outputs": [],
   "source": [
    "graph.add((lab.Paper, lab.paperTitle, XSD.string))\n",
    "for k in range(len(papersDF['paperId'])):\n",
    "    graph.add((URIRef(lab+papersDF['paperId'][k]), lab.paperTitle, Literal(papersDF['paperTitle'][k])))"
   ]
  },
  {
   "cell_type": "markdown",
   "id": "1e9bad4f",
   "metadata": {},
   "source": [
    "### Paper -- [paperAbstract] --> String"
   ]
  },
  {
   "cell_type": "code",
   "execution_count": 7,
   "id": "e5156b49",
   "metadata": {},
   "outputs": [],
   "source": [
    "graph.add((lab.Paper, lab.paperAbstract, XSD.string))\n",
    "for k in range(len(papersDF['paperId'])):\n",
    "    graph.add((URIRef(lab+papersDF['paperId'][k]), lab.paperAbstract, Literal(papersDF['paperAbstract'][k])))"
   ]
  },
  {
   "cell_type": "markdown",
   "id": "5a0b5f1b",
   "metadata": {},
   "source": [
    "### Paper -- [isSubmittedTo] --> String"
   ]
  },
  {
   "cell_type": "code",
   "execution_count": 8,
   "id": "255f4b93",
   "metadata": {},
   "outputs": [],
   "source": [
    "graph.add((lab.Paper, lab.isSubmittedTo, lab.Venue))\n",
    "for k in range(len(papersDF['paperId'])):\n",
    "    graph.add((URIRef(lab+papersDF['paperId'][k]), lab.isSubmittedTo, URIRef(lab+papersDF['conferenceJournalId'][k])))"
   ]
  },
  {
   "cell_type": "markdown",
   "id": "71fc64aa",
   "metadata": {},
   "source": [
    "### Paper -- [isPublishedInProc] --> Proceedings & Paper -- [isPublishedInVol] --> Volume"
   ]
  },
  {
   "cell_type": "code",
   "execution_count": 9,
   "id": "daf5b1d9",
   "metadata": {},
   "outputs": [],
   "source": [
    "graph.add((lab.Paper, lab.isPublishedInProc, lab.Proceeding))\n",
    "graph.add((lab.FinalPaper, lab.isPublishedInVol, lab.Volume))\n",
    "for k in range(len(papersDF['paperId'])):\n",
    "    if papersDF['conferenceJournalId'][k][0] == 'c':\n",
    "        graph.add((URIRef(lab+papersDF['paperId'][k]), lab.isPublishedInProc, URIRef(lab+papersDF['proceedingsVolumeIds'][k])))\n",
    "    else:\n",
    "        graph.add((URIRef(lab+papersDF['paperId'][k]), lab.isPublishedInVol, URIRef(lab+papersDF['proceedingsVolumeIds'][k])))"
   ]
  },
  {
   "cell_type": "markdown",
   "id": "1e993788",
   "metadata": {},
   "source": [
    "### Author -- [authorName] --> String "
   ]
  },
  {
   "cell_type": "code",
   "execution_count": 10,
   "id": "aa49b676",
   "metadata": {},
   "outputs": [
    {
     "data": {
      "text/html": [
       "<div>\n",
       "<style scoped>\n",
       "    .dataframe tbody tr th:only-of-type {\n",
       "        vertical-align: middle;\n",
       "    }\n",
       "\n",
       "    .dataframe tbody tr th {\n",
       "        vertical-align: top;\n",
       "    }\n",
       "\n",
       "    .dataframe thead th {\n",
       "        text-align: right;\n",
       "    }\n",
       "</style>\n",
       "<table border=\"1\" class=\"dataframe\">\n",
       "  <thead>\n",
       "    <tr style=\"text-align: right;\">\n",
       "      <th></th>\n",
       "      <th>authorId</th>\n",
       "      <th>authorUrl</th>\n",
       "      <th>authorName</th>\n",
       "    </tr>\n",
       "  </thead>\n",
       "  <tbody>\n",
       "    <tr>\n",
       "      <th>0</th>\n",
       "      <td>a0</td>\n",
       "      <td>6391996</td>\n",
       "      <td>Evan Bolyen</td>\n",
       "    </tr>\n",
       "  </tbody>\n",
       "</table>\n",
       "</div>"
      ],
      "text/plain": [
       "  authorId authorUrl   authorName\n",
       "0       a0   6391996  Evan Bolyen"
      ]
     },
     "execution_count": 10,
     "metadata": {},
     "output_type": "execute_result"
    }
   ],
   "source": [
    "authorsDF.head(1)"
   ]
  },
  {
   "cell_type": "code",
   "execution_count": 11,
   "id": "f8944580",
   "metadata": {},
   "outputs": [],
   "source": [
    "graph.add((lab.Author, lab.authorName, XSD.string))\n",
    "for k in range(len(authorsDF['authorId'])):\n",
    "    graph.add((URIRef(lab+authorsDF['authorId'][k]), lab.authorName, Literal(authorsDF['authorName'][k])))"
   ]
  },
  {
   "cell_type": "markdown",
   "id": "75bdefd1",
   "metadata": {},
   "source": [
    "### Author -- [writes] --> Paper"
   ]
  },
  {
   "cell_type": "code",
   "execution_count": 12,
   "id": "278a71c1",
   "metadata": {},
   "outputs": [
    {
     "data": {
      "text/html": [
       "<div>\n",
       "<style scoped>\n",
       "    .dataframe tbody tr th:only-of-type {\n",
       "        vertical-align: middle;\n",
       "    }\n",
       "\n",
       "    .dataframe tbody tr th {\n",
       "        vertical-align: top;\n",
       "    }\n",
       "\n",
       "    .dataframe thead th {\n",
       "        text-align: right;\n",
       "    }\n",
       "</style>\n",
       "<table border=\"1\" class=\"dataframe\">\n",
       "  <thead>\n",
       "    <tr style=\"text-align: right;\">\n",
       "      <th></th>\n",
       "      <th>authorUrl</th>\n",
       "      <th>paperId</th>\n",
       "      <th>authorId</th>\n",
       "      <th>authorName</th>\n",
       "      <th>paperUrl</th>\n",
       "      <th>conferenceJournalId</th>\n",
       "      <th>conferenceJournalTitle</th>\n",
       "      <th>paperTitle</th>\n",
       "      <th>paperAbstract</th>\n",
       "      <th>paperType</th>\n",
       "      <th>proceedingsVolumeIds</th>\n",
       "    </tr>\n",
       "  </thead>\n",
       "  <tbody>\n",
       "    <tr>\n",
       "      <th>0</th>\n",
       "      <td>6391996</td>\n",
       "      <td>p0</td>\n",
       "      <td>a0</td>\n",
       "      <td>Evan Bolyen</td>\n",
       "      <td>133bcd7488a3c07cb0f493a87564c30e5433768c</td>\n",
       "      <td>j0</td>\n",
       "      <td>Nature Biotechnology</td>\n",
       "      <td>Reproducible, interactive, scalable and extens...</td>\n",
       "      <td>Abstract</td>\n",
       "      <td>fullPaper</td>\n",
       "      <td>jv0</td>\n",
       "    </tr>\n",
       "  </tbody>\n",
       "</table>\n",
       "</div>"
      ],
      "text/plain": [
       "  authorUrl paperId authorId   authorName  \\\n",
       "0   6391996      p0       a0  Evan Bolyen   \n",
       "\n",
       "                                   paperUrl conferenceJournalId  \\\n",
       "0  133bcd7488a3c07cb0f493a87564c30e5433768c                  j0   \n",
       "\n",
       "  conferenceJournalTitle                                         paperTitle  \\\n",
       "0   Nature Biotechnology  Reproducible, interactive, scalable and extens...   \n",
       "\n",
       "  paperAbstract  paperType proceedingsVolumeIds  \n",
       "0      Abstract  fullPaper                  jv0  "
      ]
     },
     "execution_count": 12,
     "metadata": {},
     "output_type": "execute_result"
    }
   ],
   "source": [
    "authorsPapersDF.head(1)"
   ]
  },
  {
   "cell_type": "code",
   "execution_count": 13,
   "id": "94591287",
   "metadata": {},
   "outputs": [],
   "source": [
    "graph.add((lab.Author, lab.writes, lab.Paper))   \n",
    "for k in range(len(authorsPapersDF['authorId'])):\n",
    "    graph.add((URIRef(lab+authorsPapersDF['authorId'][k]), lab.writes, URIRef(lab+authorsPapersDF['paperId'][k])))\n",
    "    graph.add((URIRef(lab+authorsPapersDF['authorId'][k]), RDF.type, lab.Author))\n",
    "    ptype = authorsPapersDF['paperType'][k]\n",
    "    if ptype == \"fullPaper\":\n",
    "        graph.add((URIRef(lab+authorsPapersDF['paperId'][k]), RDF.type, lab.FullPaper))\n",
    "    elif ptype == \"poster\":\n",
    "        graph.add((URIRef(lab+authorsPapersDF['paperId'][k]), RDF.type, lab.Poster))"
   ]
  },
  {
   "cell_type": "markdown",
   "id": "1cf8604c",
   "metadata": {},
   "source": [
    "### Paper -- [hasPaperDomain] --> Domain"
   ]
  },
  {
   "cell_type": "code",
   "execution_count": 14,
   "id": "3e48b753",
   "metadata": {},
   "outputs": [
    {
     "data": {
      "text/html": [
       "<div>\n",
       "<style scoped>\n",
       "    .dataframe tbody tr th:only-of-type {\n",
       "        vertical-align: middle;\n",
       "    }\n",
       "\n",
       "    .dataframe tbody tr th {\n",
       "        vertical-align: top;\n",
       "    }\n",
       "\n",
       "    .dataframe thead th {\n",
       "        text-align: right;\n",
       "    }\n",
       "</style>\n",
       "<table border=\"1\" class=\"dataframe\">\n",
       "  <thead>\n",
       "    <tr style=\"text-align: right;\">\n",
       "      <th></th>\n",
       "      <th>domainName</th>\n",
       "      <th>paperId</th>\n",
       "      <th>domainId</th>\n",
       "      <th>paperUrl</th>\n",
       "      <th>conferenceJournalId</th>\n",
       "      <th>conferenceJournalTitle</th>\n",
       "      <th>paperTitle</th>\n",
       "      <th>paperAbstract</th>\n",
       "      <th>paperType</th>\n",
       "      <th>proceedingsVolumeIds</th>\n",
       "    </tr>\n",
       "  </thead>\n",
       "  <tbody>\n",
       "    <tr>\n",
       "      <th>0</th>\n",
       "      <td>Engineering</td>\n",
       "      <td>p0</td>\n",
       "      <td>d0</td>\n",
       "      <td>133bcd7488a3c07cb0f493a87564c30e5433768c</td>\n",
       "      <td>j0</td>\n",
       "      <td>Nature Biotechnology</td>\n",
       "      <td>Reproducible, interactive, scalable and extens...</td>\n",
       "      <td>Abstract</td>\n",
       "      <td>fullPaper</td>\n",
       "      <td>jv0</td>\n",
       "    </tr>\n",
       "  </tbody>\n",
       "</table>\n",
       "</div>"
      ],
      "text/plain": [
       "    domainName paperId domainId                                  paperUrl  \\\n",
       "0  Engineering      p0       d0  133bcd7488a3c07cb0f493a87564c30e5433768c   \n",
       "\n",
       "  conferenceJournalId conferenceJournalTitle  \\\n",
       "0                  j0   Nature Biotechnology   \n",
       "\n",
       "                                          paperTitle paperAbstract  paperType  \\\n",
       "0  Reproducible, interactive, scalable and extens...      Abstract  fullPaper   \n",
       "\n",
       "  proceedingsVolumeIds  \n",
       "0                  jv0  "
      ]
     },
     "execution_count": 14,
     "metadata": {},
     "output_type": "execute_result"
    }
   ],
   "source": [
    "subjectsPapersDF.head(1)"
   ]
  },
  {
   "cell_type": "code",
   "execution_count": 15,
   "id": "edd28048",
   "metadata": {},
   "outputs": [],
   "source": [
    "graph.add((lab.Paper, lab.hasPaperDomain, lab.Domain))\n",
    "for k in range(len(subjectsPapersDF['paperId'])):\n",
    "    graph.add((URIRef(subjectsPapersDF['paperId'][k]), lab.hasPaperDomain, URIRef(subjectsPapersDF['domainId'][k])))"
   ]
  },
  {
   "cell_type": "markdown",
   "id": "2f51f903",
   "metadata": {},
   "source": [
    "### Chair -- [manages] --> Conference"
   ]
  },
  {
   "cell_type": "code",
   "execution_count": 16,
   "id": "ec5b7198",
   "metadata": {},
   "outputs": [
    {
     "data": {
      "text/html": [
       "<div>\n",
       "<style scoped>\n",
       "    .dataframe tbody tr th:only-of-type {\n",
       "        vertical-align: middle;\n",
       "    }\n",
       "\n",
       "    .dataframe tbody tr th {\n",
       "        vertical-align: top;\n",
       "    }\n",
       "\n",
       "    .dataframe thead th {\n",
       "        text-align: right;\n",
       "    }\n",
       "</style>\n",
       "<table border=\"1\" class=\"dataframe\">\n",
       "  <thead>\n",
       "    <tr style=\"text-align: right;\">\n",
       "      <th></th>\n",
       "      <th>conferenceId</th>\n",
       "      <th>chairId</th>\n",
       "      <th>authorId</th>\n",
       "    </tr>\n",
       "  </thead>\n",
       "  <tbody>\n",
       "    <tr>\n",
       "      <th>0</th>\n",
       "      <td>c79</td>\n",
       "      <td>chair0</td>\n",
       "      <td>a2516</td>\n",
       "    </tr>\n",
       "  </tbody>\n",
       "</table>\n",
       "</div>"
      ],
      "text/plain": [
       "  conferenceId chairId authorId\n",
       "0          c79  chair0    a2516"
      ]
     },
     "execution_count": 16,
     "metadata": {},
     "output_type": "execute_result"
    }
   ],
   "source": [
    "chairsDF.head(1)"
   ]
  },
  {
   "cell_type": "code",
   "execution_count": 17,
   "id": "6b62bfa3",
   "metadata": {},
   "outputs": [],
   "source": [
    "graph.add((lab.Chair, lab.manages, lab.Conference))\n",
    "for k in range(len(chairsDF['conferenceId'])):\n",
    "    graph.add((URIRef(lab+chairsDF['authorId'][k]), lab.manages, URIRef(lab+chairsDF['conferenceId'][k])))"
   ]
  },
  {
   "cell_type": "markdown",
   "id": "d594e12a",
   "metadata": {},
   "source": [
    "### Editor -- [handles] --> [Journal]"
   ]
  },
  {
   "cell_type": "code",
   "execution_count": 18,
   "id": "85d160c5",
   "metadata": {},
   "outputs": [
    {
     "data": {
      "text/html": [
       "<div>\n",
       "<style scoped>\n",
       "    .dataframe tbody tr th:only-of-type {\n",
       "        vertical-align: middle;\n",
       "    }\n",
       "\n",
       "    .dataframe tbody tr th {\n",
       "        vertical-align: top;\n",
       "    }\n",
       "\n",
       "    .dataframe thead th {\n",
       "        text-align: right;\n",
       "    }\n",
       "</style>\n",
       "<table border=\"1\" class=\"dataframe\">\n",
       "  <thead>\n",
       "    <tr style=\"text-align: right;\">\n",
       "      <th></th>\n",
       "      <th>journalId</th>\n",
       "      <th>editorId</th>\n",
       "      <th>authorId</th>\n",
       "    </tr>\n",
       "  </thead>\n",
       "  <tbody>\n",
       "    <tr>\n",
       "      <th>0</th>\n",
       "      <td>j0</td>\n",
       "      <td>editor0</td>\n",
       "      <td>a116</td>\n",
       "    </tr>\n",
       "  </tbody>\n",
       "</table>\n",
       "</div>"
      ],
      "text/plain": [
       "  journalId editorId authorId\n",
       "0        j0  editor0     a116"
      ]
     },
     "execution_count": 18,
     "metadata": {},
     "output_type": "execute_result"
    }
   ],
   "source": [
    "editorsDF.head(1)"
   ]
  },
  {
   "cell_type": "code",
   "execution_count": 19,
   "id": "f91c879a",
   "metadata": {},
   "outputs": [],
   "source": [
    "graph.add((lab.Editor, lab.handles, lab.Journal))\n",
    "for k in range(len(editorsDF['journalId'])):\n",
    "    graph.add((URIRef(lab+editorsDF['authorId'][k]), lab.handles, URIRef(lab+editorsDF['journalId'][k])))"
   ]
  },
  {
   "cell_type": "markdown",
   "id": "e994a423",
   "metadata": {},
   "source": [
    "### Conference -- [conferenceTitle] --> String "
   ]
  },
  {
   "cell_type": "code",
   "execution_count": 20,
   "id": "385812db",
   "metadata": {},
   "outputs": [
    {
     "data": {
      "text/html": [
       "<div>\n",
       "<style scoped>\n",
       "    .dataframe tbody tr th:only-of-type {\n",
       "        vertical-align: middle;\n",
       "    }\n",
       "\n",
       "    .dataframe tbody tr th {\n",
       "        vertical-align: top;\n",
       "    }\n",
       "\n",
       "    .dataframe thead th {\n",
       "        text-align: right;\n",
       "    }\n",
       "</style>\n",
       "<table border=\"1\" class=\"dataframe\">\n",
       "  <thead>\n",
       "    <tr style=\"text-align: right;\">\n",
       "      <th></th>\n",
       "      <th>conferenceId</th>\n",
       "      <th>conferenceUrl</th>\n",
       "      <th>conferenceTitle</th>\n",
       "      <th>conferenceType</th>\n",
       "      <th>conferenceCity</th>\n",
       "      <th>conferenceYear</th>\n",
       "      <th>conferenceProceedingIds</th>\n",
       "    </tr>\n",
       "  </thead>\n",
       "  <tbody>\n",
       "    <tr>\n",
       "      <th>0</th>\n",
       "      <td>c0</td>\n",
       "      <td>fc0a208c-acb7-47dc-a0d4-af8190e21d29</td>\n",
       "      <td>International Conference on Machine Learning</td>\n",
       "      <td>mainConference</td>\n",
       "      <td>New York</td>\n",
       "      <td>2023</td>\n",
       "      <td>cp0</td>\n",
       "    </tr>\n",
       "  </tbody>\n",
       "</table>\n",
       "</div>"
      ],
      "text/plain": [
       "  conferenceId                         conferenceUrl  \\\n",
       "0           c0  fc0a208c-acb7-47dc-a0d4-af8190e21d29   \n",
       "\n",
       "                                conferenceTitle  conferenceType  \\\n",
       "0  International Conference on Machine Learning  mainConference   \n",
       "\n",
       "  conferenceCity  conferenceYear conferenceProceedingIds  \n",
       "0       New York            2023                     cp0  "
      ]
     },
     "execution_count": 20,
     "metadata": {},
     "output_type": "execute_result"
    }
   ],
   "source": [
    "conferencesDF.head(1)"
   ]
  },
  {
   "cell_type": "code",
   "execution_count": 21,
   "id": "e5a66f3f",
   "metadata": {},
   "outputs": [],
   "source": [
    "graph.add((lab.Conference, lab.conferenceTitle, XSD.string))\n",
    "for k in range(len(conferencesDF['conferenceId'])):\n",
    "    graph.add((URIRef(lab+conferencesDF['conferenceId'][k]), lab.conferenceTitle, Literal(conferencesDF['conferenceTitle'][k])))"
   ]
  },
  {
   "cell_type": "markdown",
   "id": "d1347b13",
   "metadata": {},
   "source": [
    "### Conference -- [conferenceCity] --> String "
   ]
  },
  {
   "cell_type": "code",
   "execution_count": 22,
   "id": "809e6c42",
   "metadata": {},
   "outputs": [],
   "source": [
    "graph.add((lab.Conference, lab.conferenceCity, XSD.string))\n",
    "for k in range(len(conferencesDF['conferenceId'])):\n",
    "    graph.add((URIRef(lab+conferencesDF['conferenceId'][k]), lab.conferenceCity, Literal(conferencesDF['conferenceCity'][k])))"
   ]
  },
  {
   "cell_type": "markdown",
   "id": "f1a67491",
   "metadata": {},
   "source": [
    "### Conference -- [conferenceYear] --> int "
   ]
  },
  {
   "cell_type": "code",
   "execution_count": 23,
   "id": "f285e511",
   "metadata": {},
   "outputs": [],
   "source": [
    "graph.add((lab.Conference, lab.conferenceYear, XSD.int))\n",
    "for k in range(len(conferencesDF['conferenceId'])):\n",
    "    graph.add((URIRef(lab+conferencesDF['conferenceId'][k]), lab.conferenceYear, Literal(conferencesDF['conferenceYear'][k])))"
   ]
  },
  {
   "cell_type": "markdown",
   "id": "5bfc6838",
   "metadata": {},
   "source": [
    "### Conference -- [inProc] --> Proceedings"
   ]
  },
  {
   "cell_type": "code",
   "execution_count": 24,
   "id": "42899cdb",
   "metadata": {},
   "outputs": [
    {
     "data": {
      "text/html": [
       "<div>\n",
       "<style scoped>\n",
       "    .dataframe tbody tr th:only-of-type {\n",
       "        vertical-align: middle;\n",
       "    }\n",
       "\n",
       "    .dataframe tbody tr th {\n",
       "        vertical-align: top;\n",
       "    }\n",
       "\n",
       "    .dataframe thead th {\n",
       "        text-align: right;\n",
       "    }\n",
       "</style>\n",
       "<table border=\"1\" class=\"dataframe\">\n",
       "  <thead>\n",
       "    <tr style=\"text-align: right;\">\n",
       "      <th></th>\n",
       "      <th>conferenceId</th>\n",
       "      <th>conferenceUrl</th>\n",
       "      <th>conferenceTitle</th>\n",
       "      <th>conferenceType</th>\n",
       "      <th>conferenceCity</th>\n",
       "      <th>conferenceYear</th>\n",
       "      <th>conferenceProceedingIds</th>\n",
       "      <th>proceedingName</th>\n",
       "    </tr>\n",
       "  </thead>\n",
       "  <tbody>\n",
       "    <tr>\n",
       "      <th>0</th>\n",
       "      <td>c0</td>\n",
       "      <td>fc0a208c-acb7-47dc-a0d4-af8190e21d29</td>\n",
       "      <td>International Conference on Machine Learning</td>\n",
       "      <td>mainConference</td>\n",
       "      <td>New York</td>\n",
       "      <td>2023</td>\n",
       "      <td>cp0</td>\n",
       "      <td>proceeding0</td>\n",
       "    </tr>\n",
       "  </tbody>\n",
       "</table>\n",
       "</div>"
      ],
      "text/plain": [
       "  conferenceId                         conferenceUrl  \\\n",
       "0           c0  fc0a208c-acb7-47dc-a0d4-af8190e21d29   \n",
       "\n",
       "                                conferenceTitle  conferenceType  \\\n",
       "0  International Conference on Machine Learning  mainConference   \n",
       "\n",
       "  conferenceCity  conferenceYear conferenceProceedingIds proceedingName  \n",
       "0       New York            2023                     cp0    proceeding0  "
      ]
     },
     "execution_count": 24,
     "metadata": {},
     "output_type": "execute_result"
    }
   ],
   "source": [
    "conferenceProceedingsDF.head(1)"
   ]
  },
  {
   "cell_type": "code",
   "execution_count": 25,
   "id": "dafeacaa",
   "metadata": {},
   "outputs": [],
   "source": [
    "graph.add((lab.Conference, lab.inProc, lab.Proceedings))\n",
    "for k in range(len(conferenceProceedingsDF['conferenceId'])):\n",
    "    graph.add((URIRef(lab+conferenceProceedingsDF['conferenceId'][k]), lab.inProc, URIRef(lab+conferenceProceedingsDF['conferenceProceedingIds'][k])))"
   ]
  },
  {
   "cell_type": "markdown",
   "id": "65b54336",
   "metadata": {},
   "source": [
    "### Journal -- [journalTitle] --> String"
   ]
  },
  {
   "cell_type": "code",
   "execution_count": 26,
   "id": "781a5bac",
   "metadata": {},
   "outputs": [
    {
     "data": {
      "text/html": [
       "<div>\n",
       "<style scoped>\n",
       "    .dataframe tbody tr th:only-of-type {\n",
       "        vertical-align: middle;\n",
       "    }\n",
       "\n",
       "    .dataframe tbody tr th {\n",
       "        vertical-align: top;\n",
       "    }\n",
       "\n",
       "    .dataframe thead th {\n",
       "        text-align: right;\n",
       "    }\n",
       "</style>\n",
       "<table border=\"1\" class=\"dataframe\">\n",
       "  <thead>\n",
       "    <tr style=\"text-align: right;\">\n",
       "      <th></th>\n",
       "      <th>journalId</th>\n",
       "      <th>journalUrl</th>\n",
       "      <th>journalTitle</th>\n",
       "      <th>journalVolumeIds</th>\n",
       "    </tr>\n",
       "  </thead>\n",
       "  <tbody>\n",
       "    <tr>\n",
       "      <th>0</th>\n",
       "      <td>j0</td>\n",
       "      <td>458166b3-de17-4bf3-bbbb-e53782de2f0f</td>\n",
       "      <td>Nature Biotechnology</td>\n",
       "      <td>jv0</td>\n",
       "    </tr>\n",
       "  </tbody>\n",
       "</table>\n",
       "</div>"
      ],
      "text/plain": [
       "  journalId                            journalUrl          journalTitle  \\\n",
       "0        j0  458166b3-de17-4bf3-bbbb-e53782de2f0f  Nature Biotechnology   \n",
       "\n",
       "  journalVolumeIds  \n",
       "0              jv0  "
      ]
     },
     "execution_count": 26,
     "metadata": {},
     "output_type": "execute_result"
    }
   ],
   "source": [
    "journalsDF.head(1)"
   ]
  },
  {
   "cell_type": "code",
   "execution_count": 27,
   "id": "c5231575",
   "metadata": {},
   "outputs": [],
   "source": [
    "graph.add((lab.Journal, lab.journalTitle, XSD.string))\n",
    "for k in range(len(journalsDF['journalId'])):\n",
    "    graph.add((URIRef(lab+journalsDF['journalId'][k]), lab.journalTitle, Literal(journalsDF['journalTitle'][k])))"
   ]
  },
  {
   "cell_type": "markdown",
   "id": "8812beee",
   "metadata": {},
   "source": [
    "### Journal -- [inVol] --> Volume"
   ]
  },
  {
   "cell_type": "code",
   "execution_count": 28,
   "id": "334a7b5e",
   "metadata": {},
   "outputs": [
    {
     "data": {
      "text/html": [
       "<div>\n",
       "<style scoped>\n",
       "    .dataframe tbody tr th:only-of-type {\n",
       "        vertical-align: middle;\n",
       "    }\n",
       "\n",
       "    .dataframe tbody tr th {\n",
       "        vertical-align: top;\n",
       "    }\n",
       "\n",
       "    .dataframe thead th {\n",
       "        text-align: right;\n",
       "    }\n",
       "</style>\n",
       "<table border=\"1\" class=\"dataframe\">\n",
       "  <thead>\n",
       "    <tr style=\"text-align: right;\">\n",
       "      <th></th>\n",
       "      <th>journalId</th>\n",
       "      <th>journalUrl</th>\n",
       "      <th>journalTitle</th>\n",
       "      <th>journalVolumeIds</th>\n",
       "      <th>volumeName</th>\n",
       "      <th>volumeYear</th>\n",
       "    </tr>\n",
       "  </thead>\n",
       "  <tbody>\n",
       "    <tr>\n",
       "      <th>0</th>\n",
       "      <td>j0</td>\n",
       "      <td>458166b3-de17-4bf3-bbbb-e53782de2f0f</td>\n",
       "      <td>Nature Biotechnology</td>\n",
       "      <td>jv0</td>\n",
       "      <td>journal0</td>\n",
       "      <td>2023</td>\n",
       "    </tr>\n",
       "  </tbody>\n",
       "</table>\n",
       "</div>"
      ],
      "text/plain": [
       "  journalId                            journalUrl          journalTitle  \\\n",
       "0        j0  458166b3-de17-4bf3-bbbb-e53782de2f0f  Nature Biotechnology   \n",
       "\n",
       "  journalVolumeIds volumeName  volumeYear  \n",
       "0              jv0   journal0        2023  "
      ]
     },
     "execution_count": 28,
     "metadata": {},
     "output_type": "execute_result"
    }
   ],
   "source": [
    "journalVolumesDF.head(1)"
   ]
  },
  {
   "cell_type": "code",
   "execution_count": 29,
   "id": "315e0fee",
   "metadata": {},
   "outputs": [],
   "source": [
    "graph.add((lab.Journal, lab.inVol, lab.Volume))\n",
    "for k in range(len(journalVolumesDF['journalId'])):\n",
    "    graph.add((URIRef(lab+journalVolumesDF['journalId'][k]), lab.inVol, URIRef(lab+journalVolumesDF['journalVolumeIds'][k])))"
   ]
  },
  {
   "cell_type": "markdown",
   "id": "cb36f134",
   "metadata": {},
   "source": [
    "### Proceedings -- [proceedingName] --> String "
   ]
  },
  {
   "cell_type": "code",
   "execution_count": 30,
   "id": "9495d25b",
   "metadata": {},
   "outputs": [
    {
     "data": {
      "text/html": [
       "<div>\n",
       "<style scoped>\n",
       "    .dataframe tbody tr th:only-of-type {\n",
       "        vertical-align: middle;\n",
       "    }\n",
       "\n",
       "    .dataframe tbody tr th {\n",
       "        vertical-align: top;\n",
       "    }\n",
       "\n",
       "    .dataframe thead th {\n",
       "        text-align: right;\n",
       "    }\n",
       "</style>\n",
       "<table border=\"1\" class=\"dataframe\">\n",
       "  <thead>\n",
       "    <tr style=\"text-align: right;\">\n",
       "      <th></th>\n",
       "      <th>proceedingId</th>\n",
       "      <th>proceedingName</th>\n",
       "    </tr>\n",
       "  </thead>\n",
       "  <tbody>\n",
       "    <tr>\n",
       "      <th>0</th>\n",
       "      <td>cp0</td>\n",
       "      <td>proceeding0</td>\n",
       "    </tr>\n",
       "  </tbody>\n",
       "</table>\n",
       "</div>"
      ],
      "text/plain": [
       "  proceedingId proceedingName\n",
       "0          cp0    proceeding0"
      ]
     },
     "execution_count": 30,
     "metadata": {},
     "output_type": "execute_result"
    }
   ],
   "source": [
    "proceedingsDF.head(1)"
   ]
  },
  {
   "cell_type": "code",
   "execution_count": 31,
   "id": "8e19a604",
   "metadata": {},
   "outputs": [],
   "source": [
    "graph.add((lab.Proceedings, lab.procName, XSD.string))\n",
    "for k in range(len(proceedingsDF['proceedingId'])):\n",
    "    graph.add((URIRef(lab+proceedingsDF['proceedingId'][k]), lab.procName, Literal(proceedingsDF['proceedingName'][k])))"
   ]
  },
  {
   "cell_type": "markdown",
   "id": "c656647e",
   "metadata": {},
   "source": [
    "### Volume -- [volName] --> String "
   ]
  },
  {
   "cell_type": "code",
   "execution_count": 32,
   "id": "3c1825f8",
   "metadata": {},
   "outputs": [
    {
     "data": {
      "text/html": [
       "<div>\n",
       "<style scoped>\n",
       "    .dataframe tbody tr th:only-of-type {\n",
       "        vertical-align: middle;\n",
       "    }\n",
       "\n",
       "    .dataframe tbody tr th {\n",
       "        vertical-align: top;\n",
       "    }\n",
       "\n",
       "    .dataframe thead th {\n",
       "        text-align: right;\n",
       "    }\n",
       "</style>\n",
       "<table border=\"1\" class=\"dataframe\">\n",
       "  <thead>\n",
       "    <tr style=\"text-align: right;\">\n",
       "      <th></th>\n",
       "      <th>volumeId</th>\n",
       "      <th>volumeName</th>\n",
       "      <th>volumeYear</th>\n",
       "    </tr>\n",
       "  </thead>\n",
       "  <tbody>\n",
       "    <tr>\n",
       "      <th>0</th>\n",
       "      <td>jv0</td>\n",
       "      <td>journal0</td>\n",
       "      <td>2023</td>\n",
       "    </tr>\n",
       "  </tbody>\n",
       "</table>\n",
       "</div>"
      ],
      "text/plain": [
       "  volumeId volumeName  volumeYear\n",
       "0      jv0   journal0        2023"
      ]
     },
     "execution_count": 32,
     "metadata": {},
     "output_type": "execute_result"
    }
   ],
   "source": [
    "volumesDF.head(1)"
   ]
  },
  {
   "cell_type": "code",
   "execution_count": 33,
   "id": "eb05908d",
   "metadata": {},
   "outputs": [],
   "source": [
    "graph.add((lab.Volume, lab.volName, XSD.string))\n",
    "for k in range(len(volumesDF['volumeId'])):\n",
    "    graph.add((URIRef(lab+volumesDF['volumeId'][k]), lab.volName, Literal(volumesDF['volumeName'][k])))"
   ]
  },
  {
   "cell_type": "markdown",
   "id": "3ff79444",
   "metadata": {},
   "source": [
    "### Volume -- [volYear] --> int"
   ]
  },
  {
   "cell_type": "code",
   "execution_count": 34,
   "id": "cfa53b9b",
   "metadata": {},
   "outputs": [],
   "source": [
    "graph.add((lab.Volume, lab.volYear, XSD.int))\n",
    "for k in range(len(volumesDF['volumeId'])):\n",
    "    graph.add((URIRef(lab+volumesDF['volumeId'][k]), lab.volYear, Literal(volumesDF['volumeYear'][k])))"
   ]
  },
  {
   "cell_type": "markdown",
   "id": "8aea52e4",
   "metadata": {},
   "source": [
    "### Proceeding -- [hasProcDomain] --> Domain & Volume -- [hasVolDomain] --> Domain"
   ]
  },
  {
   "cell_type": "code",
   "execution_count": 35,
   "id": "bec5d506",
   "metadata": {},
   "outputs": [
    {
     "data": {
      "text/html": [
       "<div>\n",
       "<style scoped>\n",
       "    .dataframe tbody tr th:only-of-type {\n",
       "        vertical-align: middle;\n",
       "    }\n",
       "\n",
       "    .dataframe tbody tr th {\n",
       "        vertical-align: top;\n",
       "    }\n",
       "\n",
       "    .dataframe thead th {\n",
       "        text-align: right;\n",
       "    }\n",
       "</style>\n",
       "<table border=\"1\" class=\"dataframe\">\n",
       "  <thead>\n",
       "    <tr style=\"text-align: right;\">\n",
       "      <th></th>\n",
       "      <th>conferenceJournalId</th>\n",
       "      <th>proceedingsVolumeIds</th>\n",
       "      <th>domainId</th>\n",
       "    </tr>\n",
       "  </thead>\n",
       "  <tbody>\n",
       "    <tr>\n",
       "      <th>0</th>\n",
       "      <td>j0</td>\n",
       "      <td>jv0</td>\n",
       "      <td>d0</td>\n",
       "    </tr>\n",
       "    <tr>\n",
       "      <th>1</th>\n",
       "      <td>j0</td>\n",
       "      <td>jv0</td>\n",
       "      <td>d1</td>\n",
       "    </tr>\n",
       "  </tbody>\n",
       "</table>\n",
       "</div>"
      ],
      "text/plain": [
       "  conferenceJournalId proceedingsVolumeIds domainId\n",
       "0                  j0                  jv0       d0\n",
       "1                  j0                  jv0       d1"
      ]
     },
     "execution_count": 35,
     "metadata": {},
     "output_type": "execute_result"
    }
   ],
   "source": [
    "subjectsProceedingsVolumesDF.head(2)"
   ]
  },
  {
   "cell_type": "code",
   "execution_count": 36,
   "id": "ac380a0a",
   "metadata": {},
   "outputs": [],
   "source": [
    "graph.add((lab.Proceeding, lab.hasProcDomain, lab.Domain))\n",
    "graph.add((lab.Volume, lab.hasVolDomain, lab.Domain))\n",
    "for k in range(len(subjectsProceedingsVolumesDF['proceedingsVolumeIds'])):\n",
    "    curr_confJour_keyword = subjectsProceedingsVolumesDF['domainId'][k]\n",
    "    if subjectsProceedingsVolumesDF['proceedingsVolumeIds'][k][0] == 'c':\n",
    "        graph.add((URIRef(lab+subjectsProceedingsVolumesDF['proceedingsVolumeIds'][k]), lab.hasProcDomain, URIRef(lab+subjectsProceedingsVolumesDF['domainId'][k])))\n",
    "    else:\n",
    "        graph.add((URIRef(lab+subjectsProceedingsVolumesDF['proceedingsVolumeIds'][k]), lab.hasVolDomain, URIRef(lab+subjectsProceedingsVolumesDF['domainId'][k])))"
   ]
  },
  {
   "cell_type": "markdown",
   "id": "b72c06c4",
   "metadata": {},
   "source": [
    "### Domain -- [keywords] --> String"
   ]
  },
  {
   "cell_type": "code",
   "execution_count": 37,
   "id": "8c850ac3",
   "metadata": {},
   "outputs": [
    {
     "data": {
      "text/html": [
       "<div>\n",
       "<style scoped>\n",
       "    .dataframe tbody tr th:only-of-type {\n",
       "        vertical-align: middle;\n",
       "    }\n",
       "\n",
       "    .dataframe tbody tr th {\n",
       "        vertical-align: top;\n",
       "    }\n",
       "\n",
       "    .dataframe thead th {\n",
       "        text-align: right;\n",
       "    }\n",
       "</style>\n",
       "<table border=\"1\" class=\"dataframe\">\n",
       "  <thead>\n",
       "    <tr style=\"text-align: right;\">\n",
       "      <th></th>\n",
       "      <th>domainId</th>\n",
       "      <th>domainName</th>\n",
       "    </tr>\n",
       "  </thead>\n",
       "  <tbody>\n",
       "    <tr>\n",
       "      <th>0</th>\n",
       "      <td>d0</td>\n",
       "      <td>Engineering</td>\n",
       "    </tr>\n",
       "  </tbody>\n",
       "</table>\n",
       "</div>"
      ],
      "text/plain": [
       "  domainId   domainName\n",
       "0       d0  Engineering"
      ]
     },
     "execution_count": 37,
     "metadata": {},
     "output_type": "execute_result"
    }
   ],
   "source": [
    "domainDF.head(1)"
   ]
  },
  {
   "cell_type": "code",
   "execution_count": 38,
   "id": "4f7009c6",
   "metadata": {},
   "outputs": [],
   "source": [
    "graph.add((lab.Domain, lab.keywords, XSD.string))\n",
    "for k in range(len(domainDF['domainId'])):\n",
    "    graph.add((URIRef(lab+domainDF['domainId'][k]), lab.keywords, Literal(domainDF['domainName'][k])))"
   ]
  },
  {
   "cell_type": "markdown",
   "id": "6bb779c5",
   "metadata": {},
   "source": [
    "### Review-- [reviewText] --> String"
   ]
  },
  {
   "cell_type": "code",
   "execution_count": 39,
   "id": "cdec46b8",
   "metadata": {},
   "outputs": [
    {
     "data": {
      "text/html": [
       "<div>\n",
       "<style scoped>\n",
       "    .dataframe tbody tr th:only-of-type {\n",
       "        vertical-align: middle;\n",
       "    }\n",
       "\n",
       "    .dataframe tbody tr th {\n",
       "        vertical-align: top;\n",
       "    }\n",
       "\n",
       "    .dataframe thead th {\n",
       "        text-align: right;\n",
       "    }\n",
       "</style>\n",
       "<table border=\"1\" class=\"dataframe\">\n",
       "  <thead>\n",
       "    <tr style=\"text-align: right;\">\n",
       "      <th></th>\n",
       "      <th>reviewId</th>\n",
       "      <th>paperId</th>\n",
       "      <th>reviewText</th>\n",
       "      <th>reviewDecision</th>\n",
       "      <th>paperTitle</th>\n",
       "    </tr>\n",
       "  </thead>\n",
       "  <tbody>\n",
       "    <tr>\n",
       "      <th>0</th>\n",
       "      <td>r0</td>\n",
       "      <td>p0</td>\n",
       "      <td>Review Comment</td>\n",
       "      <td>1</td>\n",
       "      <td>Reproducible, interactive, scalable and extens...</td>\n",
       "    </tr>\n",
       "  </tbody>\n",
       "</table>\n",
       "</div>"
      ],
      "text/plain": [
       "  reviewId paperId      reviewText  reviewDecision  \\\n",
       "0       r0      p0  Review Comment               1   \n",
       "\n",
       "                                          paperTitle  \n",
       "0  Reproducible, interactive, scalable and extens...  "
      ]
     },
     "execution_count": 39,
     "metadata": {},
     "output_type": "execute_result"
    }
   ],
   "source": [
    "reviewsDF.head(1)"
   ]
  },
  {
   "cell_type": "code",
   "execution_count": 40,
   "id": "f0e9a194",
   "metadata": {},
   "outputs": [],
   "source": [
    "graph.add((lab.Review, lab.reviewText, XSD.string))\n",
    "for k in range(len(reviewsDF['reviewId'])):\n",
    "    graph.add((URIRef(lab+reviewsDF['reviewId'][k]), lab.reviewText, Literal(reviewsDF['reviewText'][k])))"
   ]
  },
  {
   "cell_type": "markdown",
   "id": "54376623",
   "metadata": {},
   "source": [
    "### ReviewText -- [decision] --> boolean "
   ]
  },
  {
   "cell_type": "code",
   "execution_count": 41,
   "id": "63888444",
   "metadata": {},
   "outputs": [],
   "source": [
    "graph.add((lab.Review, lab.decision, XSD.boolean))\n",
    "for k in range(len(reviewsDF['reviewId'])):\n",
    "    graph.add((URIRef(lab+reviewsDF['reviewId'][k]), lab.decision, Literal(reviewsDF['reviewDecision'][k])))"
   ]
  },
  {
   "cell_type": "markdown",
   "id": "4026cf19",
   "metadata": {},
   "source": [
    "### Reviewer -- [gives] --> Review"
   ]
  },
  {
   "cell_type": "code",
   "execution_count": 42,
   "id": "60985c35",
   "metadata": {},
   "outputs": [
    {
     "data": {
      "text/html": [
       "<div>\n",
       "<style scoped>\n",
       "    .dataframe tbody tr th:only-of-type {\n",
       "        vertical-align: middle;\n",
       "    }\n",
       "\n",
       "    .dataframe tbody tr th {\n",
       "        vertical-align: top;\n",
       "    }\n",
       "\n",
       "    .dataframe thead th {\n",
       "        text-align: right;\n",
       "    }\n",
       "</style>\n",
       "<table border=\"1\" class=\"dataframe\">\n",
       "  <thead>\n",
       "    <tr style=\"text-align: right;\">\n",
       "      <th></th>\n",
       "      <th>rId</th>\n",
       "      <th>paperId</th>\n",
       "      <th>authorId</th>\n",
       "      <th>authorUrl</th>\n",
       "      <th>authorName</th>\n",
       "      <th>paperUrl</th>\n",
       "      <th>conferenceJournalId</th>\n",
       "      <th>conferenceJournalTitle</th>\n",
       "      <th>paperTitle</th>\n",
       "      <th>paperAbstract</th>\n",
       "      <th>paperType</th>\n",
       "      <th>proceedingsVolumeIds</th>\n",
       "    </tr>\n",
       "  </thead>\n",
       "  <tbody>\n",
       "    <tr>\n",
       "      <th>0</th>\n",
       "      <td>r0</td>\n",
       "      <td>p0</td>\n",
       "      <td>a6763</td>\n",
       "      <td>2149265778</td>\n",
       "      <td>Jing Wu</td>\n",
       "      <td>133bcd7488a3c07cb0f493a87564c30e5433768c</td>\n",
       "      <td>j0</td>\n",
       "      <td>Nature Biotechnology</td>\n",
       "      <td>Reproducible, interactive, scalable and extens...</td>\n",
       "      <td>Abstract</td>\n",
       "      <td>fullPaper</td>\n",
       "      <td>jv0</td>\n",
       "    </tr>\n",
       "  </tbody>\n",
       "</table>\n",
       "</div>"
      ],
      "text/plain": [
       "  rId paperId authorId   authorUrl authorName  \\\n",
       "0  r0      p0    a6763  2149265778    Jing Wu   \n",
       "\n",
       "                                   paperUrl conferenceJournalId  \\\n",
       "0  133bcd7488a3c07cb0f493a87564c30e5433768c                  j0   \n",
       "\n",
       "  conferenceJournalTitle                                         paperTitle  \\\n",
       "0   Nature Biotechnology  Reproducible, interactive, scalable and extens...   \n",
       "\n",
       "  paperAbstract  paperType proceedingsVolumeIds  \n",
       "0      Abstract  fullPaper                  jv0  "
      ]
     },
     "execution_count": 42,
     "metadata": {},
     "output_type": "execute_result"
    }
   ],
   "source": [
    "reviewersDF.head(1)"
   ]
  },
  {
   "cell_type": "code",
   "execution_count": 43,
   "id": "00efb128",
   "metadata": {},
   "outputs": [],
   "source": [
    "graph.add((lab.Reviewer, lab.gives, lab.Review))\n",
    "for k in range(len(reviewersDF['rId'])):\n",
    "    graph.add((URIRef(lab+reviewersDF['authorId'][k]), lab.gives, URIRef(lab+reviewersDF['conferenceJournalId'][k])))"
   ]
  },
  {
   "cell_type": "markdown",
   "id": "32b2b488",
   "metadata": {},
   "source": [
    "### Review -- [isGivenTo] --> Paper"
   ]
  },
  {
   "cell_type": "code",
   "execution_count": 45,
   "id": "0d22234d",
   "metadata": {},
   "outputs": [
    {
     "data": {
      "text/html": [
       "<div>\n",
       "<style scoped>\n",
       "    .dataframe tbody tr th:only-of-type {\n",
       "        vertical-align: middle;\n",
       "    }\n",
       "\n",
       "    .dataframe tbody tr th {\n",
       "        vertical-align: top;\n",
       "    }\n",
       "\n",
       "    .dataframe thead th {\n",
       "        text-align: right;\n",
       "    }\n",
       "</style>\n",
       "<table border=\"1\" class=\"dataframe\">\n",
       "  <thead>\n",
       "    <tr style=\"text-align: right;\">\n",
       "      <th></th>\n",
       "      <th>reviewId</th>\n",
       "      <th>paperId</th>\n",
       "      <th>reviewText</th>\n",
       "      <th>reviewDecision</th>\n",
       "      <th>paperTitle</th>\n",
       "    </tr>\n",
       "  </thead>\n",
       "  <tbody>\n",
       "    <tr>\n",
       "      <th>0</th>\n",
       "      <td>r0</td>\n",
       "      <td>p0</td>\n",
       "      <td>Review Comment</td>\n",
       "      <td>1</td>\n",
       "      <td>Reproducible, interactive, scalable and extens...</td>\n",
       "    </tr>\n",
       "  </tbody>\n",
       "</table>\n",
       "</div>"
      ],
      "text/plain": [
       "  reviewId paperId      reviewText  reviewDecision  \\\n",
       "0       r0      p0  Review Comment               1   \n",
       "\n",
       "                                          paperTitle  \n",
       "0  Reproducible, interactive, scalable and extens...  "
      ]
     },
     "execution_count": 45,
     "metadata": {},
     "output_type": "execute_result"
    }
   ],
   "source": [
    "reviewsDF.head(1)"
   ]
  },
  {
   "cell_type": "code",
   "execution_count": 46,
   "id": "2b58f69f",
   "metadata": {},
   "outputs": [],
   "source": [
    "graph.add((lab.Review, lab.isGivenTo, lab.Paper))\n",
    "for k in range(len(reviewsDF['reviewId'])):\n",
    "    graph.add((URIRef(lab+reviewsDF['reviewId'][k]), lab.isGivenTo, URIRef(lab+reviewsDF['paperId'][k])))"
   ]
  },
  {
   "cell_type": "markdown",
   "id": "c29c234b",
   "metadata": {},
   "source": [
    "### TTL File"
   ]
  },
  {
   "cell_type": "code",
   "execution_count": 47,
   "id": "9b8fd378",
   "metadata": {},
   "outputs": [
    {
     "data": {
      "text/plain": [
       "<Graph identifier=N4fc62f513c6245f3aa8b64ba0ada673a (<class 'rdflib.graph.Graph'>)>"
      ]
     },
     "execution_count": 47,
     "metadata": {},
     "output_type": "execute_result"
    }
   ],
   "source": [
    "graph.serialize(destination='data/abox.ttl', format=\"ttl\")"
   ]
  }
 ],
 "metadata": {
  "kernelspec": {
   "display_name": "Python 3 (ipykernel)",
   "language": "python",
   "name": "python3"
  },
  "language_info": {
   "codemirror_mode": {
    "name": "ipython",
    "version": 3
   },
   "file_extension": ".py",
   "mimetype": "text/x-python",
   "name": "python",
   "nbconvert_exporter": "python",
   "pygments_lexer": "ipython3",
   "version": "3.11.5"
  }
 },
 "nbformat": 4,
 "nbformat_minor": 5
}
