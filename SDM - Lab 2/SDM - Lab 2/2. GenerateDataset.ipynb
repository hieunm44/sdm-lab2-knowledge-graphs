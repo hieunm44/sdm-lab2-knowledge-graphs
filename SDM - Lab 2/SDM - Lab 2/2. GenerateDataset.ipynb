{
 "cells": [
  {
   "cell_type": "code",
   "execution_count": 1,
   "id": "902e665c",
   "metadata": {},
   "outputs": [],
   "source": [
    "import datetime\n",
    "import json\n",
    "from semanticscholar import SemanticScholar\n",
    "from json import JSONEncoder"
   ]
  },
  {
   "cell_type": "code",
   "execution_count": 2,
   "id": "13a61d67",
   "metadata": {},
   "outputs": [],
   "source": [
    "s2_api_key = 'lUGrNTCfwr7V7W2qjhVFZ7ijCEgnebmw82wkV02P'\n",
    "sch = SemanticScholar(api_key=s2_api_key)"
   ]
  },
  {
   "cell_type": "code",
   "execution_count": 3,
   "id": "861550f9",
   "metadata": {},
   "outputs": [],
   "source": [
    "#ds = sch.search_paper('data science', limit=100)\n",
    "#de = sch.search_paper('data engineering', limit=100)\n",
    "#bd = sch.search_paper('big data', limit=100)\n",
    "#db = sch.search_paper('database', limit=100)\n",
    "bu = sch.search_paper('business', limit=100)"
   ]
  },
  {
   "cell_type": "code",
   "execution_count": 4,
   "id": "f56315d9",
   "metadata": {},
   "outputs": [],
   "source": [
    "def json_default(value):\n",
    "    if isinstance(value, datetime.date):\n",
    "        return dict(year=value.year, month=value.month, day=value.day)\n",
    "    else:\n",
    "        return value.__dict__"
   ]
  },
  {
   "cell_type": "code",
   "execution_count": 5,
   "id": "4ed20927",
   "metadata": {},
   "outputs": [],
   "source": [
    "result = []\n",
    "\n",
    "length = 1\n",
    "for res in bu:\n",
    "    if length > 500:\n",
    "        break\n",
    "    length += 1\n",
    "    result.append(res)\n",
    "        \n",
    "with open('data/bu.json', 'w+') as f:\n",
    "    json.dump(result, f, default=json_default)"
   ]
  },
  {
   "cell_type": "code",
   "execution_count": 7,
   "id": "c5bec31f",
   "metadata": {},
   "outputs": [
    {
     "name": "stdout",
     "output_type": "stream",
     "text": [
      "Merged data written to 'data/dataset.json'\n"
     ]
    }
   ],
   "source": [
    "def merge_json_files(file_paths, output_file):\n",
    "    merged_data = []\n",
    "    for path in file_paths:\n",
    "        with open(path, 'r') as file:\n",
    "            data = json.load(file)\n",
    "            merged_data.append(data)\n",
    "    with open(output_file, 'w') as outfile:\n",
    "        json.dump(merged_data, outfile)\n",
    " \n",
    " \n",
    "file_paths = [\"data/ds.json\", \"data/de.json\", \"data/bd.json\", \"data/db.json\", \"data/bu.json\"]\n",
    " \n",
    "output_file = \"data/dataset.json\"\n",
    " \n",
    "merge_json_files(file_paths, output_file)\n",
    " \n",
    "print(f\"Merged data written to '{output_file}'\")"
   ]
  }
 ],
 "metadata": {
  "kernelspec": {
   "display_name": "Python 3 (ipykernel)",
   "language": "python",
   "name": "python3"
  },
  "language_info": {
   "codemirror_mode": {
    "name": "ipython",
    "version": 3
   },
   "file_extension": ".py",
   "mimetype": "text/x-python",
   "name": "python",
   "nbconvert_exporter": "python",
   "pygments_lexer": "ipython3",
   "version": "3.11.5"
  }
 },
 "nbformat": 4,
 "nbformat_minor": 5
}
